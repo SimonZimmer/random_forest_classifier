{
 "cells": [
  {
   "cell_type": "code",
   "execution_count": 2,
   "metadata": {},
   "outputs": [],
   "source": [
    "from essentia import *\n",
    "from essentia.standard import *\n",
    "import pandas\n",
    "import os\n",
    "import numpy as np\n",
    "import pickle"
   ]
  },
  {
   "cell_type": "code",
   "execution_count": 5,
   "metadata": {},
   "outputs": [
    {
     "name": "stdout",
     "output_type": "stream",
     "text": [
      "preparing extractor...\n",
      "extracting features...\n",
      "extracting file 0 of 23\n",
      "extracting file 1 of 23\n",
      "extracting file 2 of 23\n"
     ]
    },
    {
     "name": "stderr",
     "output_type": "stream",
     "text": [
      "/usr/local/lib/python2.7/site-packages/numpy/core/fromnumeric.py:2920: RuntimeWarning: Mean of empty slice.\n",
      "  out=out, **kwargs)\n",
      "/usr/local/lib/python2.7/site-packages/numpy/core/_methods.py:85: RuntimeWarning: invalid value encountered in double_scalars\n",
      "  ret = ret.dtype.type(ret / rcount)\n"
     ]
    },
    {
     "name": "stdout",
     "output_type": "stream",
     "text": [
      "extracting file 3 of 23\n",
      "extracting file 4 of 23\n",
      "extracting file 5 of 23\n",
      "extracting file 6 of 23\n",
      "extracting file 7 of 23\n",
      "extracting file 8 of 23\n",
      "extracting file 9 of 23\n",
      "extracting file 10 of 23\n",
      "extracting file 11 of 23\n",
      "extracting file 12 of 23\n",
      "extracting file 13 of 23\n",
      "extracting file 14 of 23\n",
      "extracting file 15 of 23\n",
      "extracting file 16 of 23\n",
      "extracting file 17 of 23\n",
      "extracting file 18 of 23\n",
      "extracting file 19 of 23\n",
      "extracting file 20 of 23\n",
      "extracting file 21 of 23\n",
      "extracting file 22 of 23\n"
     ]
    }
   ],
   "source": [
    "list_of_files = os.listdir(\"./audio_files/\")\n",
    "num_files = list_of_files.__len__()\n",
    "\n",
    "print('preparing extractor...')\n",
    "extractor = FreesoundExtractor(profile='custom_extractor_profile.yaml')\n",
    "features = extractor(\"./audio_files/\" + list_of_files[0])\n",
    "features = features[0]\n",
    "output = pandas.DataFrame(index=range(num_files), columns=[features.descriptorNames()], dtype='float')\n",
    "all_features = features.descriptorNames()\n",
    "\n",
    "print('extracting features...')\n",
    "for file in range(num_files):\n",
    "    if list_of_files[file] == '.DS_Store':\n",
    "        print('DS_Store item encountered & removed')\n",
    "        os.remove(list_of_files[file])\n",
    "    path = \"./audio_files/\" + list_of_files[file]\n",
    "    features = extractor(path)\n",
    "    features = features[0]\n",
    "\n",
    "    for feat in range(len(all_features)):\n",
    "        current_feat = str(all_features[feat])\n",
    "        if isinstance(features[current_feat], float):\n",
    "            output.iloc[file, feat] = features[str(all_features[feat])]\n",
    "        else: \n",
    "            break\n",
    "    begin_list = feat + 1\n",
    "    for feat in range(begin_list, len(all_features)):\n",
    "        current_feature = features[str(all_features[feat])]\n",
    "        if (type(current_feature) != str):\n",
    "            current_feature_list = current_feature.tolist()\n",
    "            current_feature_mean = np.mean(current_feature_list)\n",
    "            if np.isnan(current_feature_mean):\n",
    "                output.iloc[file, feat] = 0.0\n",
    "            else:\n",
    "                output.iloc[file, feat] = current_feature_mean\n",
    "        else: break\n",
    "    end_list = feat\n",
    "    print('extracting file ' + str(file) + ' of ' + str(num_files))\n",
    "\n",
    "output\n",
    "output.dropna(axis=1, inplace = True)\n",
    "output.to_pickle('test_files_features.pkl')"
   ]
  },
  {
   "cell_type": "code",
   "execution_count": null,
   "metadata": {},
   "outputs": [],
   "source": [
    "output"
   ]
  }
 ],
 "metadata": {
  "kernelspec": {
   "display_name": "Python 2",
   "language": "python",
   "name": "python2"
  },
  "language_info": {
   "codemirror_mode": {
    "name": "ipython",
    "version": 2
   },
   "file_extension": ".py",
   "mimetype": "text/x-python",
   "name": "python",
   "nbconvert_exporter": "python",
   "pygments_lexer": "ipython2",
   "version": "2.7.15"
  }
 },
 "nbformat": 4,
 "nbformat_minor": 2
}
