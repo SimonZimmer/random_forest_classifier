{
 "cells": [
  {
   "cell_type": "code",
   "execution_count": 14,
   "metadata": {},
   "outputs": [],
   "source": [
    "import pandas\n",
    "\n",
    "# brunnensounds\n",
    "dataframe = pandas.read_csv('/Users/simonzimmermann/dev/random_forest_regressor/datasets/brunnensounds/csv/Auswertung_HV.csv')\n",
    "\n",
    "values = dataframe.iloc[5, 1:-1]\n",
    "values.to_pickle(\"/Users/simonzimmermann/dev/random_forest_regressor/datasets/brunnensounds/pkl/brunnensounds_mean.pkl\")\n",
    "\n",
    "# vaillant dataset 1\n",
    "\n",
    "dataframe = pandas.read_csv('/Users/simonzimmermann/dev/random_forest_regressor/datasets/vaillant_1/csv/20190115_Zusammenfassung_V8_SV_NDA.csv')\n",
    "values = dataframe.iloc[1:35,8]\n",
    "values.to_pickle(\"/Users/simonzimmermann/dev/random_forest_regressor/datasets/vaillant_1/pkl/vaillant_1.pkl\")"
   ]
  },
  {
   "cell_type": "code",
   "execution_count": 15,
   "metadata": {},
   "outputs": [
    {
     "data": {
      "text/plain": [
       "1      2\n",
       "2      7\n",
       "3      3\n",
       "4      8\n",
       "5      3\n",
       "6     10\n",
       "7     10\n",
       "8      0\n",
       "9     10\n",
       "10     8\n",
       "11     2\n",
       "12     2\n",
       "13     7\n",
       "14     6\n",
       "15     9\n",
       "16     9\n",
       "17     8\n",
       "18     8\n",
       "19     2\n",
       "20     4\n",
       "21     0\n",
       "22     2\n",
       "23     4\n",
       "24     0\n",
       "25     9\n",
       "26     5\n",
       "27     6\n",
       "28     6\n",
       "29     2\n",
       "30     8\n",
       "31     5\n",
       "32     7\n",
       "33     7\n",
       "34     2\n",
       "Name: Unnamed: 8, dtype: object"
      ]
     },
     "execution_count": 15,
     "metadata": {},
     "output_type": "execute_result"
    }
   ],
   "source": [
    "import pickle as pkl\n",
    "target = pkl.load(open(\"/Users/simonzimmermann/dev/random_forest_regressor/datasets/vaillant_1/pkl/vaillant_1.pkl\"))\n",
    "target"
   ]
  },
  {
   "cell_type": "code",
   "execution_count": null,
   "metadata": {},
   "outputs": [],
   "source": []
  }
 ],
 "metadata": {
  "kernelspec": {
   "display_name": "Python 2",
   "language": "python",
   "name": "python2"
  },
  "language_info": {
   "codemirror_mode": {
    "name": "ipython",
    "version": 2
   },
   "file_extension": ".py",
   "mimetype": "text/x-python",
   "name": "python",
   "nbconvert_exporter": "python",
   "pygments_lexer": "ipython2",
   "version": "2.7.15"
  }
 },
 "nbformat": 4,
 "nbformat_minor": 2
}
