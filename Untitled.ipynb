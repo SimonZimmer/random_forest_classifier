{
 "cells": [
  {
   "cell_type": "code",
   "execution_count": 8,
   "metadata": {},
   "outputs": [],
   "source": [
    "import random\n",
    "import numpy as np\n",
    "values = np.zeros(23)\n",
    "for i in range(23):\n",
    "    values[i] = random.uniform(0.0, 1.0)\n",
    "    "
   ]
  },
  {
   "cell_type": "code",
   "execution_count": 9,
   "metadata": {},
   "outputs": [
    {
     "data": {
      "text/plain": [
       "array([0.86342049, 0.88138662, 0.63164415, 0.34949001, 0.77449513,\n",
       "       0.68661777, 0.00492398, 0.0893059 , 0.88541985, 0.27352947,\n",
       "       0.61174582, 0.66409841, 0.83021907, 0.85770889, 0.12233401,\n",
       "       0.99403892, 0.86233214, 0.43090391, 0.66305138, 0.93353254,\n",
       "       0.02207172, 0.37661729, 0.01827623])"
      ]
     },
     "execution_count": 9,
     "metadata": {},
     "output_type": "execute_result"
    }
   ],
   "source": [
    "values"
   ]
  },
  {
   "cell_type": "code",
   "execution_count": null,
   "metadata": {},
   "outputs": [],
   "source": []
  }
 ],
 "metadata": {
  "kernelspec": {
   "display_name": "Python 2",
   "language": "python",
   "name": "python2"
  },
  "language_info": {
   "codemirror_mode": {
    "name": "ipython",
    "version": 2
   },
   "file_extension": ".py",
   "mimetype": "text/x-python",
   "name": "python",
   "nbconvert_exporter": "python",
   "pygments_lexer": "ipython2",
   "version": "2.7.15"
  }
 },
 "nbformat": 4,
 "nbformat_minor": 2
}
