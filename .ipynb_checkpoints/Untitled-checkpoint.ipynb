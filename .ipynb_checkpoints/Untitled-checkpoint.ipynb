{
 "cells": [
  {
   "cell_type": "code",
   "execution_count": null,
   "metadata": {},
   "outputs": [],
   "source": [
    "import pandas\n",
    "\n",
    "# brunnensounds\n",
    "dataframe = pandas.read_csv('/Users/simonzimmermann/dev/random_forest_regressor/datasets/Auswertung_HV.csv')\n",
    "\n",
    "values = dataframe.iloc[5, 1:-1]\n",
    "values.to_pickle(\"/Users/simonzimmermann/dev/random_forest_regressor/datasets/pkl/brunnensounds_mean.pkl\")\n",
    "\n",
    "# vaillant dataset 1\n",
    "\n",
    "dataframe = pandas.read_csv('/Users/simonzimmermann/WORK/random_forest_regressor/VaillantField2017_NoiseRatings_NDA/20190115_Zusammenfassung_V8_SV_NDA.csv')\n",
    "values.to_pickle(\"/Users/simonzimmermann/dev/random_forest_regressor/datasets/pkl/vaillant_1.pkl\")\n",
    "values = dataframe.iloc[1:35,8]\n"
   ]
  }
 ],
 "metadata": {
  "kernelspec": {
   "display_name": "Python 2",
   "language": "python",
   "name": "python2"
  },
  "language_info": {
   "codemirror_mode": {
    "name": "ipython",
    "version": 2
   },
   "file_extension": ".py",
   "mimetype": "text/x-python",
   "name": "python",
   "nbconvert_exporter": "python",
   "pygments_lexer": "ipython2",
   "version": "2.7.15"
  }
 },
 "nbformat": 4,
 "nbformat_minor": 2
}
